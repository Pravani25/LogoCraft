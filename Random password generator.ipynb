{
  "nbformat": 4,
  "nbformat_minor": 0,
  "metadata": {
    "colab": {
      "provenance": [],
      "authorship_tag": "ABX9TyMymSYBLQsjhpOQMc1Q5f2t",
      "include_colab_link": true
    },
    "kernelspec": {
      "name": "python3",
      "display_name": "Python 3"
    },
    "language_info": {
      "name": "python"
    }
  },
  "cells": [
    {
      "cell_type": "markdown",
      "metadata": {
        "id": "view-in-github",
        "colab_type": "text"
      },
      "source": [
        "<a href=\"https://colab.research.google.com/github/Pravani25/LogoCraft/blob/main/Random%20password%20generator.ipynb\" target=\"_parent\"><img src=\"https://colab.research.google.com/assets/colab-badge.svg\" alt=\"Open In Colab\"/></a>"
      ]
    },
    {
      "cell_type": "code",
      "execution_count": 1,
      "metadata": {
        "colab": {
          "base_uri": "https://localhost:8080/"
        },
        "id": "tIlEeFJ92rbR",
        "outputId": "e233faab-3b97-43b7-dd47-070bb444b8ef"
      },
      "outputs": [
        {
          "output_type": "stream",
          "name": "stdout",
          "text": [
            "=== Custom Password Generator ===\n",
            "Enter a base word or phrase to include in your password: P\n",
            "Enter desired total password length: 7\n",
            "\n",
            " Your strong password is: ]7+4.P0\n"
          ]
        }
      ],
      "source": [
        "import random\n",
        "import string\n",
        "\n",
        "def generate_custom_password(base, length=12, add_numbers=True, add_symbols=True):\n",
        "    if len(base) >= length:\n",
        "        return base[:length]  # Truncate if base is too long\n",
        "\n",
        "    remaining_length = length - len(base)\n",
        "    extra_chars = ''\n",
        "\n",
        "    if add_numbers:\n",
        "        extra_chars += string.digits\n",
        "    if add_symbols:\n",
        "        extra_chars += string.punctuation\n",
        "    if not extra_chars:\n",
        "        extra_chars += string.ascii_letters\n",
        "\n",
        "    random_part = ''.join(random.choice(extra_chars) for _ in range(remaining_length))\n",
        "\n",
        "    # Combine base with random part and shuffle\n",
        "    combined = list(base + random_part)\n",
        "    random.shuffle(combined)\n",
        "    return ''.join(combined)\n",
        "\n",
        "# ===== Main Program =====\n",
        "print(\"=== Custom Password Generator ===\")\n",
        "base = input(\"Enter a base word or phrase to include in your password: \")\n",
        "length = int(input(\"Enter desired total password length: \"))\n",
        "\n",
        "password = generate_custom_password(base, length)\n",
        "print(\"\\n Your strong password is:\", password)\n",
        ""
      ]
    }
  ]
}